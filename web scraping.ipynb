{
 "cells": [
  {
   "cell_type": "markdown",
   "id": "a6f9b3f9",
   "metadata": {},
   "source": [
    "# Let's scrape Vocal Challenge"
   ]
  },
  {
   "cell_type": "code",
   "execution_count": null,
   "id": "e0ba3f30",
   "metadata": {},
   "outputs": [],
   "source": [
    "# import necesary tools for scraping\n",
    "from selenium import webdriver \n",
    "from selenium.webdriver.chrome.service import Service as ChromeService \n",
    "from webdriver_manager.chrome import ChromeDriverManager\n",
    "from selenium.webdriver.chrome.options import Options\n",
    "from bs4 import BeautifulSoup\n",
    "from selenium.common.exceptions import TimeoutException\n",
    "from selenium.webdriver.support.ui import WebDriverWait\n",
    "from selenium.webdriver.support import expected_conditions as EC\n",
    "from selenium.webdriver.common.by import By\n",
    "#import time \n",
    "#import random"
   ]
  },
  {
   "cell_type": "code",
   "execution_count": null,
   "id": "b124b01d",
   "metadata": {
    "scrolled": true
   },
   "outputs": [],
   "source": [
    "# enable headless mode in Selenium\n",
    "options = Options()\n",
    "options.add_argument('--headless=new')\n",
    "# block image loading\n",
    "options.experimental_options['prefs'] = {'profile.managed_default_content_settings.images': 2}\n",
    "# instantiate driver \n",
    "driver = webdriver.Chrome(service=ChromeService(ChromeDriverManager().install()), options=options) "
   ]
  },
  {
   "cell_type": "code",
   "execution_count": null,
   "id": "5adc2835",
   "metadata": {},
   "outputs": [],
   "source": [
    "# write down the website root; create containers to store stories data: authors, stories titles, and links to the stories\n",
    "root = 'https://vocal.media'\n",
    "stories_titles = list()\n",
    "stories_h_ref = list()\n",
    "stories_authors = list()"
   ]
  },
  {
   "cell_type": "code",
   "execution_count": null,
   "id": "90880019",
   "metadata": {
    "scrolled": true
   },
   "outputs": [],
   "source": [
    "# Let's start scraping\n",
    "i = 0\n",
    "timeout = 10\n",
    "while True:\n",
    "    i=i+1\n",
    "    challenge_entries = f'{root}/challenges/epistolary/submissions?page={i}'\n",
    "    driver.get(challenge_entries)\n",
    "    try:\n",
    "        element_present = EC.presence_of_element_located((By.CLASS_NAME , 'css-1g9btk4-SiteLink-PostTile'))\n",
    "        WebDriverWait(driver, timeout).until(element_present)\n",
    "    except TimeoutException:\n",
    "        print(\"Timed out waiting for page to load\")\n",
    "    page_source = driver.page_source\n",
    "    page_soup = BeautifulSoup(page_source, \"html.parser\")\n",
    "    stories = page_soup.find_all(\"a\", href = True, class_=\"css-1g9btk4-SiteLink-PostTile\")\n",
    "    flag = bool(stories)\n",
    "    if flag == False:\n",
    "        break\n",
    "    authors = page_soup.find_all(\"a\", href = True, class_=\"css-1oz1xzv-SiteLink-PostTile\")\n",
    "    for story in stories:\n",
    "        title = story.find(\"h3\", class_=\"post-name css-1alfqzo-Text\")\n",
    "        stories_h_ref.append(f\"{root}{story['href']}\")\n",
    "        stories_titles.append(title.text.strip())\n",
    "    for author in authors:\n",
    "        stories_authors.append(author.text.strip())\n",
    "    print(f'{i} done...')"
   ]
  },
  {
   "cell_type": "code",
   "execution_count": null,
   "id": "6714b4a7",
   "metadata": {
    "scrolled": false
   },
   "outputs": [],
   "source": [
    "# create a dataframe with all extracted authors/stories names and links to them\n",
    "import pandas as pd\n",
    "stories_dataframe = pd.DataFrame(\n",
    "    {'Author': stories_authors,\n",
    "     'Story': stories_titles,\n",
    "     'Link': stories_h_ref})\n",
    "stories_dataframe"
   ]
  },
  {
   "cell_type": "code",
   "execution_count": null,
   "id": "1cbd2c22",
   "metadata": {
    "scrolled": true
   },
   "outputs": [],
   "source": [
    "# download all the stories\n",
    "stories_text_storage = list()\n",
    "counter = 0\n",
    "timeout = 1000\n",
    "\n",
    "for index, row in stories_dataframe.iterrows():\n",
    "    story_url = row['Link']\n",
    "    driver.get(story_url)\n",
    "    try:\n",
    "        element_present = EC.presence_of_element_located((By.CLASS_NAME , 'css-1mu5bpv-TextContent-PostPage'))\n",
    "        WebDriverWait(driver, timeout).until(element_present)\n",
    "    except TimeoutException:\n",
    "        print(\"Timed out waiting for page to load\")\n",
    "    page_source = driver.page_source\n",
    "    story_soup = BeautifulSoup(page_source, \"html.parser\")\n",
    "    html_post_text = story_soup.find(\"div\", class_=\"css-1mu5bpv-TextContent-PostPage\")\n",
    "    post_text = html_post_text.find_all('p')\n",
    "    temporal_story_list = list()\n",
    "    for line in post_text:\n",
    "        temporal_story_list.append(line.text.strip())\n",
    "    temporal_story_list = list(filter(None, temporal_story_list))\n",
    "    full_text = '\\n\\n'.join(temporal_story_list)\n",
    "    stories_text_storage.append(full_text)\n",
    "    counter += 1\n",
    "    print(f'done with story {counter}, {row[\"Story\"]}')"
   ]
  },
  {
   "cell_type": "code",
   "execution_count": null,
   "id": "8566d2d9",
   "metadata": {
    "scrolled": true
   },
   "outputs": [],
   "source": [
    "# update your dataframe: include a column with full texts of the stories\n",
    "full_stories_df = pd.DataFrame(stories_text_storage, columns = ['Full text'])\n",
    "final_df_with_stories = pd.concat([stories_dataframe, full_stories_df], axis=\"columns\")\n",
    "final_df_with_stories"
   ]
  },
  {
   "cell_type": "code",
   "execution_count": null,
   "id": "aac31922",
   "metadata": {},
   "outputs": [],
   "source": [
    "# how many stories start with Dear/dear?\n",
    "final_df_with_stories['Full text'].str[0:4].str.contains(\"Dear|dear\").sum()"
   ]
  },
  {
   "cell_type": "code",
   "execution_count": null,
   "id": "b36eba05",
   "metadata": {},
   "outputs": [],
   "source": [
    "# how many stories contain word depression?\n",
    "final_df_with_stories['Full text'].str.contains(\"Depression|depression|DEPRESSION\").sum()"
   ]
  },
  {
   "cell_type": "code",
   "execution_count": null,
   "id": "e05659a7",
   "metadata": {
    "scrolled": true
   },
   "outputs": [],
   "source": [
    "# count how many times each author published a story for the challenge\n",
    "stories_dataframe['# of stories'] = stories_dataframe.groupby('Author')['Author'].transform('count')\n",
    "stories_dataframe = stories_dataframe.sort_values(by=['# of stories', \"Author\"], ascending=False)\n",
    "stories_dataframe"
   ]
  },
  {
   "cell_type": "code",
   "execution_count": null,
   "id": "b9d50e43",
   "metadata": {},
   "outputs": [],
   "source": [
    "# Creat a sorted list of how many stories each author published for the challenge\n",
    "authors_productivity_df = stories_dataframe.drop_duplicates(subset='Author', keep=\"first\").drop(['Story', 'Link'], axis=1)\n",
    "authors_productivity_df"
   ]
  },
  {
   "cell_type": "code",
   "execution_count": null,
   "id": "02bc7ad3",
   "metadata": {
    "scrolled": true
   },
   "outputs": [],
   "source": [
    "# Find stories of the authors you're interested in\n",
    "options = ['Gina C.'] \n",
    "authors_of_interest_df = stories_dataframe[stories_dataframe['Author'].isin(options)].reset_index()\n",
    "authors_of_interest_df"
   ]
  },
  {
   "cell_type": "code",
   "execution_count": null,
   "id": "5cb49c35",
   "metadata": {},
   "outputs": [],
   "source": [
    "# print out a story. By changing value in ['Full text'][value] get access to any of the downloaded stories\n",
    "read_story_No = 1\n",
    "print(authors_of_interest_df['Full text'][read_story_No-1])"
   ]
  },
  {
   "cell_type": "code",
   "execution_count": null,
   "id": "cc448eb2",
   "metadata": {
    "scrolled": true
   },
   "outputs": [],
   "source": [
    "# Save a story as a Microsoft office document \n",
    "download_story_No = 2\n",
    "from docx import Document\n",
    "\n",
    "document = Document()\n",
    "document.add_heading(final_df_with_stories_to_read['Story'][download_story_No-1], level=1)\n",
    "document.add_paragraph()\n",
    "document.add_paragraph(final_df_with_stories_to_read['Full text'][download_story_No-1])\n",
    "\n",
    "document.save('Downloaded_story.docx')"
   ]
  },
  {
   "cell_type": "code",
   "execution_count": null,
   "id": "00e4245e",
   "metadata": {},
   "outputs": [],
   "source": []
  }
 ],
 "metadata": {
  "kernelspec": {
   "display_name": "Python 3",
   "language": "python",
   "name": "python3"
  },
  "language_info": {
   "codemirror_mode": {
    "name": "ipython",
    "version": 3
   },
   "file_extension": ".py",
   "mimetype": "text/x-python",
   "name": "python",
   "nbconvert_exporter": "python",
   "pygments_lexer": "ipython3",
   "version": "3.8.8"
  }
 },
 "nbformat": 4,
 "nbformat_minor": 5
}
